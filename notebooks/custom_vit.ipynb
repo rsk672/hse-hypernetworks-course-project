{
 "cells": [
  {
   "cell_type": "code",
   "execution_count": 1,
   "metadata": {
    "execution": {
     "iopub.execute_input": "2024-05-12T15:31:23.849610Z",
     "iopub.status.busy": "2024-05-12T15:31:23.849141Z",
     "iopub.status.idle": "2024-05-12T15:31:32.293082Z",
     "shell.execute_reply": "2024-05-12T15:31:32.292390Z",
     "shell.execute_reply.started": "2024-05-12T15:31:23.849590Z"
    },
    "id": "DGg4MXJ9BCKm",
    "tags": []
   },
   "outputs": [],
   "source": [
    "import torch\n",
    "from tqdm.notebook import tqdm\n",
    "import sys\n",
    "sys.path.append('../')"
   ]
  },
  {
   "cell_type": "markdown",
   "metadata": {
    "id": "-RB-ABInCpf-"
   },
   "source": [
    "# Dataset"
   ]
  },
  {
   "cell_type": "code",
   "execution_count": null,
   "metadata": {
    "execution": {
     "iopub.execute_input": "2024-05-12T15:31:44.409289Z",
     "iopub.status.busy": "2024-05-12T15:31:44.408984Z",
     "iopub.status.idle": "2024-05-12T15:31:59.018682Z",
     "shell.execute_reply": "2024-05-12T15:31:59.018088Z",
     "shell.execute_reply.started": "2024-05-12T15:31:44.409268Z"
    },
    "id": "HETodyScCmgp"
   },
   "outputs": [],
   "source": [
    "from utils.dataloaders import get_split_cifar10_dataloaders\n",
    "\n",
    "train_tasks_loaders, test_tasks_loaders = get_split_cifar10_dataloaders(batch_size=128, image_size=32, use_augmentations=True)"
   ]
  },
  {
   "cell_type": "code",
   "execution_count": 3,
   "metadata": {
    "execution": {
     "iopub.execute_input": "2024-05-12T15:31:59.019690Z",
     "iopub.status.busy": "2024-05-12T15:31:59.019358Z",
     "iopub.status.idle": "2024-05-12T15:35:11.297700Z",
     "shell.execute_reply": "2024-05-12T15:35:11.296943Z",
     "shell.execute_reply.started": "2024-05-12T15:31:59.019672Z"
    },
    "id": "KyjGMiusH-_j"
   },
   "outputs": [],
   "source": [
    "device = torch.device('cuda:0' if torch.cuda.is_available() else 'cpu')"
   ]
  },
  {
   "cell_type": "markdown",
   "metadata": {},
   "source": [
    "# Training"
   ]
  },
  {
   "cell_type": "code",
   "execution_count": 4,
   "metadata": {
    "execution": {
     "iopub.execute_input": "2024-05-12T15:35:11.393902Z",
     "iopub.status.busy": "2024-05-12T15:35:11.393650Z",
     "iopub.status.idle": "2024-05-12T15:35:11.404246Z",
     "shell.execute_reply": "2024-05-12T15:35:11.403687Z",
     "shell.execute_reply.started": "2024-05-12T15:35:11.393884Z"
    },
    "tags": []
   },
   "outputs": [],
   "source": [
    "def train_task(model, hnet, optimizer, scheduler, criterion, dataloader, hnet_prev=None, task_embeddings=[]):\n",
    "  model.train()\n",
    "  hnet.train()\n",
    "\n",
    "  train_loss = 0\n",
    "  train_acc = 0\n",
    "\n",
    "  for i, batch in enumerate(tqdm(dataloader)):\n",
    "    pixels, labels = batch\n",
    "    pixels = pixels.to(device)\n",
    "    labels = labels.to(device)\n",
    "\n",
    "    optimizer.zero_grad()\n",
    "\n",
    "    predicted_weights = hnet.get_task_weights(task_embeddings[-1]).to(device)\n",
    "    output = model(pixels, predicted_weights)\n",
    "    loss = criterion(output, labels)\n",
    "\n",
    "    if hnet_prev:\n",
    "      for t_e in task_embeddings[:-1]:\n",
    "        loss += (1e-1 / len(task_embeddings[:-1])) * torch.sum((hnet_prev.get_task_weights(t_e) - hnet.get_task_weights(t_e)) ** 2)\n",
    "\n",
    "    train_loss += loss.detach().item()\n",
    "    train_acc += (output.argmax(dim=1) == labels).sum() / len(labels)\n",
    "    loss.backward()\n",
    "\n",
    "    optimizer.step()\n",
    "    scheduler.step()\n",
    "    \n",
    "\n",
    "  return train_loss / len(dataloader), train_acc / len(dataloader)"
   ]
  },
  {
   "cell_type": "code",
   "execution_count": 5,
   "metadata": {
    "execution": {
     "iopub.execute_input": "2024-05-12T15:35:11.405124Z",
     "iopub.status.busy": "2024-05-12T15:35:11.404886Z",
     "iopub.status.idle": "2024-05-12T15:35:11.419512Z",
     "shell.execute_reply": "2024-05-12T15:35:11.418958Z",
     "shell.execute_reply.started": "2024-05-12T15:35:11.405108Z"
    },
    "tags": []
   },
   "outputs": [],
   "source": [
    "def test_task(model, hnet, criterion, task_embedding, dataloader):\n",
    "  model.eval()\n",
    "  hnet.eval()\n",
    "\n",
    "  test_loss = 0\n",
    "  test_acc = 0\n",
    "\n",
    "  for i, batch in enumerate(tqdm(dataloader)):\n",
    "    pixels, labels = batch\n",
    "    pixels = pixels.to(device)\n",
    "    labels = labels.to(device)\n",
    "\n",
    "    predicted_weights = hnet.get_task_weights(task_embedding).to(device)\n",
    "    output = model(pixels, predicted_weights)\n",
    "\n",
    "    loss = criterion(output, labels)\n",
    "\n",
    "    test_loss += loss.item()\n",
    "    test_acc += (output.argmax(dim=1) == labels).sum().item() / len(labels)\n",
    "\n",
    "\n",
    "  return test_loss / len(dataloader), test_acc / len(dataloader)"
   ]
  },
  {
   "cell_type": "code",
   "execution_count": 6,
   "metadata": {},
   "outputs": [],
   "source": [
    "import copy\n",
    "from src.vit.custom.model import CustomViT\n",
    "from src.hnet_lib.hnet import HyperNetwork\n",
    "from utils.losses import CELabelSmoothedLoss"
   ]
  },
  {
   "cell_type": "code",
   "execution_count": null,
   "metadata": {
    "execution": {
     "iopub.execute_input": "2024-05-12T15:35:11.420426Z",
     "iopub.status.busy": "2024-05-12T15:35:11.420168Z",
     "iopub.status.idle": "2024-05-12T15:41:46.500687Z",
     "shell.execute_reply": "2024-05-12T15:41:46.499976Z",
     "shell.execute_reply.started": "2024-05-12T15:35:11.420410Z"
    },
    "tags": []
   },
   "outputs": [],
   "source": [
    "TASK_COUNT = 5\n",
    "n_epochs = 20\n",
    "model = CustomViT(10, hyper_ln=True).to(device)\n",
    "hnet = HyperNetwork(5, 128, model.get_weights_from_hnet_cnt()).to(device)\n",
    "hnet_prev = None\n",
    "\n",
    "optimizer = torch.optim.Adam(list(hnet.parameters()) + list(model.parameters()), lr=1e-3, betas=(0.9, 0.999), weight_decay=5e-5)\n",
    "criterion = CELabelSmoothedLoss(10, 0.2)\n",
    "scheduler = torch.optim.lr_scheduler.CosineAnnealingLR(optimizer, T_max=200, eta_min=1e-5)\n",
    "\n",
    "task_embeddings = []\n",
    "task_accuracies = []\n",
    "\n",
    "for t in range(TASK_COUNT):\n",
    "  print(f'TRAINING TASK {t + 1}\\n')\n",
    "\n",
    "  t_e = [0] * TASK_COUNT\n",
    "  t_e[t] = 1\n",
    "  task_embeddings.append(torch.tensor(t_e).type(torch.FloatTensor))\n",
    "  \n",
    "  train_losses = []\n",
    "  for i in range(n_epochs):\n",
    "    train_loss, train_acc = train_task(model, hnet, optimizer, scheduler, criterion, train_tasks_loaders[t], hnet_prev, task_embeddings)\n",
    "    print(f'Epoch {i + 1}: {train_loss=} {train_acc=}')\n",
    "\n",
    "  if t == 0:\n",
    "    model.freeze()\n",
    "\n",
    "  print(f'\\nAFTER TRAINING TASK {t + 1}\\n')\n",
    "\n",
    "  accuracies = []\n",
    "  for i in tqdm(range(t + 1)):\n",
    "    test_loss, test_acc = test_task(model, hnet, criterion, task_embeddings[i], test_tasks_loaders[i])\n",
    "    accuracies.append(test_acc)\n",
    "    print(f'Task {i + 1}: {test_loss=} {test_acc=}')\n",
    "  task_accuracies.append(accuracies)\n",
    "    \n",
    "  if hnet_prev:\n",
    "    del hnet_prev\n",
    "\n",
    "  hnet_prev = copy.deepcopy(hnet)\n",
    "\n",
    "  print()"
   ]
  },
  {
   "cell_type": "code",
   "execution_count": null,
   "metadata": {
    "execution": {
     "iopub.execute_input": "2024-05-12T15:41:46.501825Z",
     "iopub.status.busy": "2024-05-12T15:41:46.501505Z",
     "iopub.status.idle": "2024-05-12T15:41:46.526076Z",
     "shell.execute_reply": "2024-05-12T15:41:46.525456Z",
     "shell.execute_reply.started": "2024-05-12T15:41:46.501801Z"
    },
    "tags": []
   },
   "outputs": [],
   "source": [
    "task_accuracies_padded = [accs + [0] * (TASK_COUNT - len(accs)) for accs in task_accuracies].copy()"
   ]
  },
  {
   "cell_type": "markdown",
   "metadata": {},
   "source": [
    "# Plots"
   ]
  },
  {
   "cell_type": "code",
   "execution_count": 16,
   "metadata": {
    "execution": {
     "iopub.execute_input": "2024-05-12T15:52:52.738462Z",
     "iopub.status.busy": "2024-05-12T15:52:52.737965Z",
     "iopub.status.idle": "2024-05-12T15:52:52.753819Z",
     "shell.execute_reply": "2024-05-12T15:52:52.753173Z",
     "shell.execute_reply.started": "2024-05-12T15:52:52.738442Z"
    },
    "tags": []
   },
   "outputs": [],
   "source": [
    "import numpy as np\n",
    "import matplotlib.pyplot as plt\n",
    "\n",
    "def plot_tasks_bar(task_accuracies, output_path, title=None, full_training_accuracy=None):\n",
    "    task_accuracies = np.array(task_accuracies).T * 100\n",
    "\n",
    "    tasks = {\n",
    "        '0-1': task_accuracies[0],\n",
    "        '2-3': task_accuracies[1],\n",
    "        '4-5': task_accuracies[2],\n",
    "        '6-7': task_accuracies[3],\n",
    "        '8-9': task_accuracies[4],\n",
    "    }\n",
    "\n",
    "    x = np.arange(1, len(tasks) + 1)\n",
    "    width = 0.2\n",
    "    multiplier = 0\n",
    "\n",
    "    fig, ax = plt.subplots(layout='constrained')\n",
    "\n",
    "    handles = []\n",
    "\n",
    "    for attribute, measurement in tasks.items():\n",
    "        offset = width * multiplier\n",
    "        rects = ax.bar(x + offset, measurement, width, label=attribute)\n",
    "        handles.append(rects)\n",
    "        multiplier += 1\n",
    "\n",
    "    ax.set_ylabel('Accuracy (%)')\n",
    "    ax.set_xlabel('Выучено контекстов')\n",
    "    if title is not None:\n",
    "        ax.set_title(f'{title}')\n",
    "\n",
    "\n",
    "    if full_training_accuracy is not None:\n",
    "      hline = ax.hlines(full_training_accuracy * 100, 0.92, 5.88, color='black',\n",
    "                        linestyle='--', linewidth=2, label='Полное обучение')\n",
    "      handles.append(hline)\n",
    "\n",
    "    ax.legend(handles=handles, loc='best', ncols=3, fontsize=13)\n",
    "    ax.set_ylim(0, 120)\n",
    "\n",
    "    ax.locator_params(axis='y', nbins=20)\n",
    "\n",
    "    xticks = ax.xaxis.get_major_ticks()\n",
    "    xticks[-2].label1.set_visible(False)\n",
    "    xticks[-1].label1.set_visible(False)\n",
    "    \n",
    "    yticks = ax.yaxis.get_major_ticks()\n",
    "    yticks[-1].label1.set_visible(False)\n",
    "    yticks[-2].label1.set_visible(False)\n",
    "\n",
    "    ax.xaxis.label.set_size(16)\n",
    "    ax.yaxis.label.set_size(16)\n",
    "\n",
    "    ax.tick_params(axis='both', which='major', labelsize=16)\n",
    "\n",
    "    fig.savefig(output_path, dpi=300, bbox_inches='tight')"
   ]
  },
  {
   "cell_type": "code",
   "execution_count": 29,
   "metadata": {
    "execution": {
     "iopub.execute_input": "2024-05-12T15:52:55.010211Z",
     "iopub.status.busy": "2024-05-12T15:52:55.009747Z",
     "iopub.status.idle": "2024-05-12T15:52:55.554088Z",
     "shell.execute_reply": "2024-05-12T15:52:55.553402Z",
     "shell.execute_reply.started": "2024-05-12T15:52:55.010191Z"
    },
    "tags": []
   },
   "outputs": [
    {
     "data": {
      "image/png": "[encoded data removed]",
      "text/plain": [
       "<Figure size 640x480 with 1 Axes>"
      ]
     },
     "metadata": {},
     "output_type": "display_data"
    }
   ],
   "source": [
    "plot_tasks_bar(task_accuracies_padded, '../experiments/custom-vit/plots/custom-vit-hnet-ln', full_training_accuracy=0.82)"
   ]
  }
 ],
 "metadata": {
  "accelerator": "GPU",
  "colab": {
   "gpuType": "T4",
   "provenance": []
  },
  "kaggle": {
   "accelerator": "gpu",
   "dataSources": [],
   "dockerImageVersionId": 30699,
   "isGpuEnabled": true,
   "isInternetEnabled": true,
   "language": "python",
   "sourceType": "notebook"
  },
  "kernelspec": {
   "display_name": "DataSphere Kernel",
   "language": "python",
   "name": "python3"
  },
  "language_info": {
   "codemirror_mode": {
    "name": "ipython",
    "version": 3
   },
   "file_extension": ".py",
   "mimetype": "text/x-python",
   "name": "python",
   "nbconvert_exporter": "python",
   "pygments_lexer": "ipython3",
   "version": "3.11.0"
  }
 },
 "nbformat": 4,
 "nbformat_minor": 4
}
