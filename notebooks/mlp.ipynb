{
  "cells": [
    {
      "cell_type": "code",
      "execution_count": 1,
      "metadata": {
        "id": "E3QEBC_KhAQN"
      },
      "outputs": [],
      "source": [
        "import torch\n",
        "from tqdm.notebook import tqdm\n",
        "import sys\n",
        "sys.path.append('../')"
      ]
    },
    {
      "cell_type": "markdown",
      "metadata": {
        "id": "1LwjDSrOhFDC"
      },
      "source": [
        "# Dataset:"
      ]
    },
    {
      "cell_type": "code",
      "execution_count": null,
      "metadata": {},
      "outputs": [],
      "source": [
        "from utils.dataloaders import get_split_mnist_dataloaders\n",
        "\n",
        "train_tasks_loaders, test_tasks_loaders = get_split_mnist_dataloaders(batch_size=128)"
      ]
    },
    {
      "cell_type": "code",
      "execution_count": 12,
      "metadata": {
        "id": "1rl5dBY2n6Yd"
      },
      "outputs": [],
      "source": [
        "device = torch.device('cuda:0' if torch.cuda.is_available() else 'cpu')"
      ]
    },
    {
      "cell_type": "markdown",
      "metadata": {},
      "source": [
        "# Training"
      ]
    },
    {
      "cell_type": "code",
      "execution_count": 13,
      "metadata": {
        "id": "ZVAPKsqsnJG6"
      },
      "outputs": [],
      "source": [
        "def train_task(model, hnet, optimizer, criterion, dataloader, hnet_prev=None, task_embeddings=[]):\n",
        "    model.train()\n",
        "    hnet.train()\n",
        "\n",
        "    train_loss = 0\n",
        "    train_acc = 0\n",
        "\n",
        "    for i, batch in enumerate(dataloader):\n",
        "        pixels, labels = batch\n",
        "        pixels = pixels.to(device)\n",
        "        labels = labels.to(device)\n",
        "\n",
        "        optimizer.zero_grad()\n",
        "\n",
        "        predicted_weights = hnet.get_task_weights(task_embeddings[-1]).to(device)\n",
        "        output = model(pixels.view(\n",
        "            pixels.shape[0], -1), predicted_weights)\n",
        "        loss = criterion(output, labels)\n",
        "\n",
        "        if hnet_prev:\n",
        "            for t_e in task_embeddings[:-1]:\n",
        "                loss += (1e-2 / len(task_embeddings[:-1])) * torch.sum((hnet_prev.get_task_weights(t_e) - hnet.get_task_weights(t_e)) ** 2)\n",
        "\n",
        "        train_loss += loss.detach().item()\n",
        "        train_acc += (output.argmax(dim=1) == labels).sum() / len(labels)\n",
        "        loss.backward()\n",
        "\n",
        "        optimizer.step()\n",
        "\n",
        "\n",
        "    return train_loss / len(dataloader), train_acc / len(dataloader)"
      ]
    },
    {
      "cell_type": "code",
      "execution_count": 14,
      "metadata": {
        "id": "9J96hws5pUPi"
      },
      "outputs": [],
      "source": [
        "def test_task(model, hnet, criterion, task_embedding, dataloader):\n",
        "    model.eval()\n",
        "    hnet.eval()\n",
        "\n",
        "    test_loss = 0\n",
        "    test_acc = 0\n",
        "\n",
        "    for i, batch in enumerate(dataloader):\n",
        "        pixels, labels = batch\n",
        "        pixels = pixels.to(device)\n",
        "        labels = labels.to(device)\n",
        "\n",
        "        predicted_weights = hnet.get_task_weights(task_embedding).to(device)\n",
        "        output = model(pixels.view(pixels.shape[0], -1), predicted_weights)\n",
        "\n",
        "        loss = criterion(output, labels)\n",
        "\n",
        "        test_loss += loss.item()\n",
        "        test_acc += (output.argmax(dim=1) == labels).sum() / len(labels)\n",
        "\n",
        "\n",
        "    return test_loss / len(dataloader), test_acc / len(dataloader)"
      ]
    },
    {
      "cell_type": "code",
      "execution_count": 15,
      "metadata": {},
      "outputs": [],
      "source": [
        "import copy\n",
        "from src.mlp.model import MLP\n",
        "from src.hnet_lib.hnet import HyperNetwork"
      ]
    },
    {
      "cell_type": "code",
      "execution_count": null,
      "metadata": {
        "colab": {
          "base_uri": "https://localhost:8080/"
        },
        "id": "TqgAtAVGqVWW",
        "outputId": "7813ef82-1d0d-45c2-ddf4-18a765eae032"
      },
      "outputs": [],
      "source": [
        "TASK_COUNT = 5\n",
        "n_epochs = 3\n",
        "task_embeddings = []\n",
        "task_accuracies = []\n",
        "\n",
        "model = MLP(hyper_layers=[2]).to(device)\n",
        "hnet = HyperNetwork(5, 128, model.get_weights_from_hnet_cnt()).to(device)\n",
        "hnet_prev = None\n",
        "\n",
        "optimizer = torch.optim.Adam(list(hnet.parameters()) + list(model.parameters()), lr=1e-4)\n",
        "criterion = torch.nn.CrossEntropyLoss()\n",
        "\n",
        "for t in range(TASK_COUNT):\n",
        "  print(f'TRAINING TASK {t + 1}\\n')\n",
        "\n",
        "  t_e = [0] * TASK_COUNT\n",
        "  t_e[t] = 1\n",
        "  task_embeddings.append(torch.tensor(t_e).type(torch.FloatTensor))\n",
        "\n",
        "  for i in range(n_epochs):\n",
        "    train_loss, train_acc = train_task(model, hnet, optimizer, criterion, train_tasks_loaders[t], hnet_prev, task_embeddings)\n",
        "    print(f'Epoch {i + 1}: {train_loss=} {train_acc=}')\n",
        "\n",
        "  if t == 0:\n",
        "    model.freeze()\n",
        "\n",
        "  print(f'\\nAFTER TRAINING TASK {t + 1}\\n')\n",
        "\n",
        "  accuracies = []\n",
        "  for i in range(t + 1):\n",
        "    test_loss, test_acc = test_task(model, hnet, criterion, task_embeddings[i], test_tasks_loaders[i])\n",
        "    accuracies.append(test_acc.detach().item())\n",
        "    print(f'Task {i + 1}: {test_loss=} {test_acc=}')\n",
        "  task_accuracies.append(accuracies)\n",
        "\n",
        "  if hnet_prev:\n",
        "    del hnet_prev\n",
        "\n",
        "  hnet_prev = copy.deepcopy(hnet)\n",
        "\n",
        "  print()"
      ]
    },
    {
      "cell_type": "markdown",
      "metadata": {
        "id": "tN1Vm-d0866F"
      },
      "source": [
        "# Plots"
      ]
    },
    {
      "cell_type": "code",
      "execution_count": null,
      "metadata": {
        "id": "fgIg4eHEcOkL"
      },
      "outputs": [],
      "source": [
        "task_accuracies_padded = [accs + [0] * (TASK_COUNT - len(accs)) for accs in task_accuracies].copy()"
      ]
    },
    {
      "cell_type": "code",
      "execution_count": 130,
      "metadata": {
        "id": "tqJ9SN5p8--3"
      },
      "outputs": [],
      "source": [
        "import numpy as np\n",
        "import matplotlib.pyplot as plt\n",
        "\n",
        "def plot_tasks_bar(task_accuracies, output_path, title=None, full_training_accuracy=None):\n",
        "    task_accuracies = np.array(task_accuracies).T * 100\n",
        "\n",
        "    tasks = {\n",
        "        '0-1': task_accuracies[0],\n",
        "        '2-3': task_accuracies[1],\n",
        "        '4-5': task_accuracies[2],\n",
        "        '6-7': task_accuracies[3],\n",
        "        '8-9': task_accuracies[4],\n",
        "    }\n",
        "\n",
        "    x = np.arange(1, len(tasks) + 1)\n",
        "    width = 0.2\n",
        "    multiplier = 0\n",
        "\n",
        "    fig, ax = plt.subplots(layout='constrained')\n",
        "\n",
        "    handles = []\n",
        "\n",
        "    for attribute, measurement in tasks.items():\n",
        "        offset = width * multiplier\n",
        "        rects = ax.bar(x + offset, measurement, width, label=attribute)\n",
        "        handles.append(rects)\n",
        "        multiplier += 1\n",
        "\n",
        "    ax.set_ylabel('Accuracy (%)')\n",
        "    ax.set_xlabel('Выучено контекстов')\n",
        "    if title is not None:\n",
        "        ax.set_title(f'{title}')\n",
        "\n",
        "    if full_training_accuracy is not None:\n",
        "      hline = ax.hlines(full_training_accuracy * 100, 0.92, 5.88, color='black',\n",
        "                        linestyle='--', linewidth=2, label='Полное обучение')\n",
        "      handles.append(hline)\n",
        "\n",
        "    ax.legend(handles=handles, loc='best', ncols=3, fontsize=13)\n",
        "    ax.set_ylim(0, 125)\n",
        "\n",
        "    ax.locator_params(axis='y', nbins=20)\n",
        "\n",
        "    xticks = ax.xaxis.get_major_ticks()\n",
        "    xticks[-2].label1.set_visible(False)\n",
        "    xticks[-1].label1.set_visible(False)\n",
        "    \n",
        "    yticks = ax.yaxis.get_major_ticks()\n",
        "    yticks[-1].label1.set_visible(False)\n",
        "    yticks[-2].label1.set_visible(False)\n",
        "    yticks[-3].label1.set_visible(False)\n",
        "\n",
        "    ax.xaxis.label.set_size(16)\n",
        "    ax.yaxis.label.set_size(16)\n",
        "\n",
        "    ax.tick_params(axis='both', which='major', labelsize=16)\n",
        "\n",
        "    fig.savefig(output_path, dpi=300, bbox_inches='tight')"
      ]
    },
    {
      "cell_type": "code",
      "execution_count": 137,
      "metadata": {},
      "outputs": [
        {
          "data": {
            "image/png": "[encoded data removed]",
            "text/plain": [
              "<Figure size 640x480 with 1 Axes>"
            ]
          },
          "metadata": {},
          "output_type": "display_data"
        }
      ],
      "source": [
        "plot_tasks_bar(task_accuracies_padded, '../experiments/mlp/plots/ln', full_training_accuracy=0.994)"
      ]
    }
  ],
  "metadata": {
    "accelerator": "GPU",
    "colab": {
      "gpuType": "T4",
      "provenance": []
    },
    "kernelspec": {
      "display_name": "Python 3",
      "name": "python3"
    },
    "language_info": {
      "codemirror_mode": {
        "name": "ipython",
        "version": 3
      },
      "file_extension": ".py",
      "mimetype": "text/x-python",
      "name": "python",
      "nbconvert_exporter": "python",
      "pygments_lexer": "ipython3",
      "version": "3.11.0"
    }
  },
  "nbformat": 4,
  "nbformat_minor": 0
}
